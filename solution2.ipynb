{
 "cells": [
  {
   "cell_type": "code",
   "execution_count": null,
   "metadata": {},
   "outputs": [],
   "source": [
    "## function\n",
    "## A function in Python is a block of reusable code that performs a specific task. It is used to break down a program into smaller, manageable pieces of code. Functions help in organizing code, improving code reusability, and promoting modularity. They allow us to write code once and use it multiple times, reducing redundancy and making the code more efficient and maintainable. Functions also enhance code readability and make it easier to debug and test."
   ]
  },
  {
   "cell_type": "code",
   "execution_count": 2,
   "metadata": {},
   "outputs": [
    {
     "data": {
      "text/plain": [
       "(1, 2, 3, 1, 2, 3)"
      ]
     },
     "execution_count": 2,
     "metadata": {},
     "output_type": "execute_result"
    }
   ],
   "source": [
    "## 2. How do you define a function in Python? Provide an example.\n",
    "def sum_1(*args):\n",
    "    return sum(args)\n",
    "sum_1(1,2,3)"
   ]
  },
  {
   "cell_type": "code",
   "execution_count": null,
   "metadata": {
    "vscode": {
     "languageId": "markdown"
    }
   },
   "outputs": [],
   "source": [
    "#A function definition is the process of creating a new function. It involves specifying the name of the function, its parameters (if any), and the code that will be executed when the function is called. Think of a function definition as a blueprint or a recipe for creating a function. It defines the structure and behavior of the function.\n",
    "#To summarize, a function definition creates a new function with a specific name and behavior, while a function call executes the code inside a function and provides any necessary arguments."
   ]
  },
  {
   "cell_type": "code",
   "execution_count": 4,
   "metadata": {
    "vscode": {
     "languageId": "markdown"
    }
   },
   "outputs": [
    {
     "data": {
      "text/plain": [
       "11"
      ]
     },
     "execution_count": 4,
     "metadata": {},
     "output_type": "execute_result"
    }
   ],
   "source": [
    "## 4. Write a Python program that defines a function to calculate the sum of two numbers and then\n",
    "## calls the function.\n",
    "def sum_n(num1:int,num2:int):\n",
    "  return num1+num2\n",
    "sum_n(5,6)"
   ]
  },
  {
   "cell_type": "code",
   "execution_count": null,
   "metadata": {
    "vscode": {
     "languageId": "markdown"
    }
   },
   "outputs": [],
   "source": [
    "<!-- # 5. What is a function signature, and what information does it typically include?\n",
    "the function name and its paramter is called signature of a function it inculde function name and paramters and its types if suggested as python has dynamic typing -->"
   ]
  },
  {
   "cell_type": "code",
   "execution_count": null,
   "metadata": {
    "vscode": {
     "languageId": "markdown"
    }
   },
   "outputs": [],
   "source": [
    "## 6. Create a Python function that takes two arguments and returns their product.\n",
    "def prod(num1:int,num2:int):\n",
    "  return num1*num2\n",
    "prod(5,6)"
   ]
  },
  {
   "cell_type": "markdown",
   "metadata": {},
   "source": [
    "## 1. Explain the concepts of formal parameters and actual arguments in Python functions.\n",
    "In Python, when defining a function, you can specify one or more formal parameters. These parameters act as placeholders for values that will be passed into the function when it is called.\n",
    "\n",
    "Formal parameters are defined in the function signature, enclosed in parentheses after the function name. They serve as variables within the function's scope and are used to receive values from the caller.\n",
    "\n",
    "For example, consider the following function definition:\n",
    "\n",
    "In this case, name is the formal parameter of the greet function. It acts as a placeholder for the actual value that will be passed in when the function is called.\n",
    "\n",
    "When calling a function, you provide the actual values that will be assigned to the formal parameters. These actual values are called arguments. Arguments are passed to a function in the same order as the formal parameters are defined.\n",
    "\n",
    "Continuing with the previous example, let's call the greet function:\n",
    "\n",
    "Here, \"Alice\" is the argument that is passed to the name parameter of the greet function. The function will then print \"Hello, Alice!\".\n",
    "\n",
    "It's important to note that the names of the formal parameters in the function definition do not have to match the names of the arguments in the function call. The values are assigned based on their positions, not their names."
   ]
  },
  {
   "cell_type": "code",
   "execution_count": 5,
   "metadata": {
    "vscode": {
     "languageId": "markdown"
    }
   },
   "outputs": [
    {
     "data": {
      "text/plain": [
       "15"
      ]
     },
     "execution_count": 5,
     "metadata": {},
     "output_type": "execute_result"
    }
   ],
   "source": [
    "## 2. Write a Python program that defines a function with default argument values.\n",
    "def sum_n(num1:int,num2:int=10):\n",
    "  return num1+num2\n",
    "sum_n(5)"
   ]
  },
  {
   "cell_type": "code",
   "execution_count": null,
   "metadata": {},
   "outputs": [],
   "source": [
    "#To use keyword arguments in Python function calls, you can specify the argument name followed by the #value you want to assign to that argument. This allows you to pass arguments to a function in any order, #as long as you specify the argument name.\n",
    "\n",
    "#Here's an example:\n",
    "def greet(name, age):\n",
    "    print(f\"Hello, {name}! You are {age} years old.\")\n",
    "\n",
    "# Using keyword arguments\n",
    "greet(name=\"askari\", age=25)\n"
   ]
  },
  {
   "cell_type": "code",
   "execution_count": null,
   "metadata": {},
   "outputs": [],
   "source": [
    "## 4. Create a Python function that accepts a variable number of arguments and calculates their sum.\n",
    "def sum_1(*args):\n",
    "    return sum(args)\n",
    "sum_1(1,2,3)"
   ]
  },
  {
   "cell_type": "code",
   "execution_count": 6,
   "metadata": {},
   "outputs": [
    {
     "name": "stdout",
     "output_type": "stream",
     "text": [
      "key\tname:value\taskari\n",
      "key\tage:value\t17\n",
      "key\tbloodgroup:value\tb+\n"
     ]
    }
   ],
   "source": [
    "## 5. What is the purpose of the `*args` and `**kwargs` syntax in function parameter lists?\n",
    "## *args allows a function to accept any number of positional arguments. treated as an tuple\n",
    "## **kwargs allows a function to accept any number of keyword arguments. treated as an keyword dictionary\n",
    "def details(**kwargs):\n",
    "    for key,value in kwargs.items():\n",
    "        print(f'key\\t{key}:value\\t{value}')\n",
    "\n",
    "details(name='askari',age='17',bloodgroup='b+')"
   ]
  },
  {
   "cell_type": "code",
   "execution_count": 7,
   "metadata": {},
   "outputs": [
    {
     "data": {
      "text/plain": [
       "'happy'"
      ]
     },
     "execution_count": 7,
     "metadata": {},
     "output_type": "execute_result"
    }
   ],
   "source": [
    "## 1. Describe the role of the `return` statement in Python functions and provide examples.\n",
    "## return is used to end a function call when a function is excuted it terminate the function working and return specifed type of data based on perfernce \n",
    "def hello():\n",
    "    return 'happy'\n",
    "hello() ## return happy"
   ]
  },
  {
   "cell_type": "code",
   "execution_count": null,
   "metadata": {},
   "outputs": [],
   "source": [
    "## 2. Explain the concept of variable scope in Python, including local and global variables.\n",
    "## global variabe is accessaible throught the pogram but local variable has range inside the specifed block of code such as if else or loop or a function\n"
   ]
  },
  {
   "cell_type": "code",
   "execution_count": null,
   "metadata": {},
   "outputs": [],
   "source": [
    "## 3. Write a Python program that demonstrates the use of global variables within functions.\n",
    "from statistics import mean\n",
    "def dataset(list1:list):\n",
    "    return mean(list1)\n",
    "## list1 is global here"
   ]
  },
  {
   "cell_type": "code",
   "execution_count": 8,
   "metadata": {},
   "outputs": [
    {
     "data": {
      "text/plain": [
       "120"
      ]
     },
     "execution_count": 8,
     "metadata": {},
     "output_type": "execute_result"
    }
   ],
   "source": [
    "## 4. Create a Python function that calculates the factorial of a number and returns it.\n",
    "from math import factorial\n",
    "def fact(number:int):\n",
    "    return factorial(number)\n",
    "fact(5)"
   ]
  },
  {
   "cell_type": "code",
   "execution_count": 9,
   "metadata": {},
   "outputs": [
    {
     "name": "stdout",
     "output_type": "stream",
     "text": [
      "10\n",
      "11\n"
     ]
    }
   ],
   "source": [
    "## 5. How can you access variables defined outside a function from within the function?\n",
    "## by pass by value example\n",
    "def so(num1:int):\n",
    "    num1=10\n",
    "    print(num1)\n",
    "num1=11\n",
    "so(num1)\n",
    "print(num1)"
   ]
  },
  {
   "cell_type": "code",
   "execution_count": null,
   "metadata": {},
   "outputs": [],
   "source": [
    "## 1. What are lambda functions in Python, and when are they typically used?\n",
    "## A lambda function in Python is a small, anonymous function defined using the lambda keyword. It is often used for short, throwaway functions that are not complex enough to warrant a full function definition using def"
   ]
  },
  {
   "cell_type": "code",
   "execution_count": 20,
   "metadata": {},
   "outputs": [
    {
     "data": {
      "text/plain": [
       "[(4, 1), (5, 2), (2, 3), (3, 4), (1, 5)]"
      ]
     },
     "execution_count": 20,
     "metadata": {},
     "output_type": "execute_result"
    }
   ],
   "source": [
    "## 2. Write a Python program that uses lambda functions to sort a list of tuples based on the second\n",
    "##element.\n",
    "tup1 = [(1, 5), (2, 3), (4, 1), (3, 4), (5, 2)]\n",
    "res=sorted(tup1,key=lambda x:x[1])\n",
    "res"
   ]
  },
  {
   "cell_type": "code",
   "execution_count": null,
   "metadata": {},
   "outputs": [],
   "source": [
    "## 3. Explain the concept of higher-order functions in Python, and provide an example.\n",
    "# A higher-order function is a function that either takes one or more functions as arguments or returns a function as its result. Higher-order functions are a key concept in functional programming, allowing for more abstract and flexible code.\n",
    "numbers = [1, 2, 3, 4]\n",
    "squared = map(lambda x: x**2, numbers)\n",
    "print(list(squared))  "
   ]
  },
  {
   "cell_type": "code",
   "execution_count": 21,
   "metadata": {},
   "outputs": [
    {
     "data": {
      "text/plain": [
       "[1, 4, 27, 3125]"
      ]
     },
     "execution_count": 21,
     "metadata": {},
     "output_type": "execute_result"
    }
   ],
   "source": [
    "## 4. Create a Python function that takes a list of numbers and a function as arguments, applying the\n",
    "## function to each element in the list.\n",
    "num1=[1,2,3,5]\n",
    "def do(list1):\n",
    "    list1=list(map(lambda x:x**x,num1))\n",
    "    return list1\n",
    "do(num1)"
   ]
  },
  {
   "cell_type": "code",
   "execution_count": null,
   "metadata": {},
   "outputs": [],
   "source": [
    "## 1. Describe the role of built-in functions like `len()`, `max()`, and `min()` in Python.\n",
    "## provide easy access to built in feature by just passing the arrgument according to documentation"
   ]
  },
  {
   "cell_type": "code",
   "execution_count": 22,
   "metadata": {},
   "outputs": [
    {
     "data": {
      "text/plain": [
       "[1, 4, 9, 25]"
      ]
     },
     "execution_count": 22,
     "metadata": {},
     "output_type": "execute_result"
    }
   ],
   "source": [
    "## 2. Write a Python program that uses the `map()` function to apply a function to each element of a\n",
    "#list.\n",
    "num1=[1,2,3,5]\n",
    "def do(list1):\n",
    "    list1=list(map(lambda x:x**2,num1))\n",
    "    return list1\n",
    "do(num1)"
   ]
  },
  {
   "cell_type": "code",
   "execution_count": 23,
   "metadata": {},
   "outputs": [
    {
     "data": {
      "text/plain": [
       "[2, 4, 6, 6, 6]"
      ]
     },
     "execution_count": 23,
     "metadata": {},
     "output_type": "execute_result"
    }
   ],
   "source": [
    "## 3. How does the `filter()` function work in Python, and when would you use it?\n",
    " ## it used to filter data from itterable objects .it is used to filter out the specific data from the  lsit\n",
    "list1=[1,2,3,4,5,65,6,95,6,6]\n",
    "def do1(list1:list):\n",
    "    return list(filter(lambda x:x%2==0,list1))\n",
    "do1(list1)"
   ]
  },
  {
   "cell_type": "code",
   "execution_count": 26,
   "metadata": {},
   "outputs": [
    {
     "name": "stdout",
     "output_type": "stream",
     "text": [
      "6000\n"
     ]
    }
   ],
   "source": [
    "# 4. Create a Python program that uses the `reduce()` function to find the product of all elements in\n",
    "#a list.\n",
    "from functools import reduce\n",
    "list1=[1,2,3,4,5,5,10]\n",
    "res=reduce(lambda x,y:x*y,list1)\n",
    "print(res)"
   ]
  },
  {
   "cell_type": "code",
   "execution_count": 27,
   "metadata": {},
   "outputs": [
    {
     "data": {
      "text/plain": [
       "60"
      ]
     },
     "execution_count": 27,
     "metadata": {},
     "output_type": "execute_result"
    }
   ],
   "source": [
    "## 1. Explain the purpose of docstrings in Python functions and how to write them.\n",
    "## it tells about the insight paramtmer type and return type and error handling of a function\n",
    "def sum_1(*args):\n",
    "    \"\"\"sumary_line\n",
    "    Return sum of variable \n",
    "    Keyword arguments:\n",
    "    argument -- description\n",
    "    Return: return_description integer and float return\n",
    "    Error : if string type is passed\n",
    "    \"\"\"\n",
    "    return sum(args)\n",
    "sum_1(10,20,30)\n"
   ]
  }
 ],
 "metadata": {
  "kernelspec": {
   "display_name": "Python 3",
   "language": "python",
   "name": "python3"
  },
  "language_info": {
   "codemirror_mode": {
    "name": "ipython",
    "version": 3
   },
   "file_extension": ".py",
   "mimetype": "text/x-python",
   "name": "python",
   "nbconvert_exporter": "python",
   "pygments_lexer": "ipython3",
   "version": "3.9.6"
  }
 },
 "nbformat": 4,
 "nbformat_minor": 2
}
